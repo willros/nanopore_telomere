{
 "cells": [
  {
   "cell_type": "code",
   "execution_count": 1,
   "id": "126cfc10-3760-4f93-894a-3074dd73633d",
   "metadata": {},
   "outputs": [],
   "source": [
    "import mappy as mp\n",
    "import pandas as pd\n",
    "import pyfastx\n",
    "import numpy as np\n",
    "from pathlib import Path"
   ]
  },
  {
   "cell_type": "markdown",
   "id": "d934f488-519c-43f3-950e-b6a101169ae9",
   "metadata": {},
   "source": [
    "# Make DF of reads"
   ]
  },
  {
   "cell_type": "code",
   "execution_count": 2,
   "id": "81a7fa46-dff7-4f39-9781-9ffaff78de89",
   "metadata": {},
   "outputs": [],
   "source": [
    "def reads_to_df(fastx_file: str) -> pd.DataFrame:\n",
    "    fastx = pyfastx.Fastx(fastx_file)\n",
    "    reads = list(zip(*[[x[0], x[1]] for x in fastx]))\n",
    "    return pd.DataFrame({\"name\": reads[0], \"sequence\": reads[1]})"
   ]
  },
  {
   "cell_type": "code",
   "execution_count": 3,
   "id": "18c9697c-424b-4eae-a523-89d164975f68",
   "metadata": {},
   "outputs": [],
   "source": [
    "folder = Path(\n",
    "    \"/home/nanopore/nanopore_analysis/telomere-project/sequencing-basecalling/calib-detection/Telobait1/calibration_strands/\"\n",
    ")\n",
    "dfs = []\n",
    "for x in folder.iterdir():\n",
    "    if x.suffix == \".fastq\":\n",
    "        dfs.append(reads_to_df(str(x)))"
   ]
  },
  {
   "cell_type": "code",
   "execution_count": 4,
   "id": "287408aa-003b-4107-ac54-3acbbb8f3270",
   "metadata": {},
   "outputs": [],
   "source": [
    "df = (\n",
    "    pd.concat(dfs)\n",
    "    .assign(read_len=lambda x: x.sequence.str.len())\n",
    ")"
   ]
  },
  {
   "cell_type": "code",
   "execution_count": 5,
   "id": "ae6fa8c9-3187-423a-bb67-ca3460d7a6d1",
   "metadata": {},
   "outputs": [
    {
     "data": {
      "text/html": [
       "<div>\n",
       "<style scoped>\n",
       "    .dataframe tbody tr th:only-of-type {\n",
       "        vertical-align: middle;\n",
       "    }\n",
       "\n",
       "    .dataframe tbody tr th {\n",
       "        vertical-align: top;\n",
       "    }\n",
       "\n",
       "    .dataframe thead th {\n",
       "        text-align: right;\n",
       "    }\n",
       "</style>\n",
       "<table border=\"1\" class=\"dataframe\">\n",
       "  <thead>\n",
       "    <tr style=\"text-align: right;\">\n",
       "      <th></th>\n",
       "      <th>name</th>\n",
       "      <th>sequence</th>\n",
       "      <th>read_len</th>\n",
       "    </tr>\n",
       "  </thead>\n",
       "  <tbody>\n",
       "    <tr>\n",
       "      <th>0</th>\n",
       "      <td>83de73d3-b8d3-47f7-afb0-2f53cda82145</td>\n",
       "      <td>TTATGTTGTTATGTAGGCGTACCTCGTTCAGTTACGTATTTTAGTC...</td>\n",
       "      <td>3581</td>\n",
       "    </tr>\n",
       "    <tr>\n",
       "      <th>1</th>\n",
       "      <td>652ee60b-95fa-4a57-abd9-2d5410943e85</td>\n",
       "      <td>GTTGTTTTTTTTTATTTTTACTTCGTTCAGTTACGTATTGCTAATT...</td>\n",
       "      <td>3605</td>\n",
       "    </tr>\n",
       "    <tr>\n",
       "      <th>2</th>\n",
       "      <td>4c8e21f7-c143-4265-af56-f4b05debd063</td>\n",
       "      <td>TTATGTTATGTATCGTCTTTCGTTCAGTTACGTATTGCTGATTGTT...</td>\n",
       "      <td>3547</td>\n",
       "    </tr>\n",
       "    <tr>\n",
       "      <th>3</th>\n",
       "      <td>b973f783-71ff-4092-b054-6716413b5492</td>\n",
       "      <td>GTGTTTTGCCTGTACTTGGTTCAGACTACGTATTGCTTCACTACTC...</td>\n",
       "      <td>3596</td>\n",
       "    </tr>\n",
       "    <tr>\n",
       "      <th>4</th>\n",
       "      <td>36123503-5e0f-4da0-953f-5a6c6416bf7b</td>\n",
       "      <td>GGTTATGTACGTGTACTTCGTTCAGTTACGTATTGCTCAGATTGTG...</td>\n",
       "      <td>3587</td>\n",
       "    </tr>\n",
       "    <tr>\n",
       "      <th>...</th>\n",
       "      <td>...</td>\n",
       "      <td>...</td>\n",
       "      <td>...</td>\n",
       "    </tr>\n",
       "    <tr>\n",
       "      <th>128</th>\n",
       "      <td>b589b9ef-ed1c-4226-bc05-1dea432134bf</td>\n",
       "      <td>TGTTATGTTGCCTGTACTTCGTTTTCAGGTTCGTAACTGCTTGTTA...</td>\n",
       "      <td>3589</td>\n",
       "    </tr>\n",
       "    <tr>\n",
       "      <th>129</th>\n",
       "      <td>cea303e5-5989-42af-8872-1556d140924f</td>\n",
       "      <td>ATTTTCCTGTTGCTTCGTTCCGCCCGTTTCTTGCTAGTCGCTTTTT...</td>\n",
       "      <td>3552</td>\n",
       "    </tr>\n",
       "    <tr>\n",
       "      <th>130</th>\n",
       "      <td>2fd2d868-d4e3-4bb5-b047-c59e6d4945ee</td>\n",
       "      <td>ATTGTTATGTTATGTTGCGTGTACACTTGGTACGGTTGCGTATTGC...</td>\n",
       "      <td>3638</td>\n",
       "    </tr>\n",
       "    <tr>\n",
       "      <th>131</th>\n",
       "      <td>5e3aeb83-a477-4745-b20d-ca33f3065cab</td>\n",
       "      <td>ATATGTATATACGTATTTCCTTCGTTGAGTTACGTATTGCTTGTTA...</td>\n",
       "      <td>3562</td>\n",
       "    </tr>\n",
       "    <tr>\n",
       "      <th>132</th>\n",
       "      <td>72aaf683-3d51-4431-a7bd-a37117a05285</td>\n",
       "      <td>GTTATGTTGTTATGTTTACTGGTTCAGTTACGTATTGCTTGTGTTT...</td>\n",
       "      <td>3577</td>\n",
       "    </tr>\n",
       "  </tbody>\n",
       "</table>\n",
       "<p>393 rows × 3 columns</p>\n",
       "</div>"
      ],
      "text/plain": [
       "                                     name  \\\n",
       "0    83de73d3-b8d3-47f7-afb0-2f53cda82145   \n",
       "1    652ee60b-95fa-4a57-abd9-2d5410943e85   \n",
       "2    4c8e21f7-c143-4265-af56-f4b05debd063   \n",
       "3    b973f783-71ff-4092-b054-6716413b5492   \n",
       "4    36123503-5e0f-4da0-953f-5a6c6416bf7b   \n",
       "..                                    ...   \n",
       "128  b589b9ef-ed1c-4226-bc05-1dea432134bf   \n",
       "129  cea303e5-5989-42af-8872-1556d140924f   \n",
       "130  2fd2d868-d4e3-4bb5-b047-c59e6d4945ee   \n",
       "131  5e3aeb83-a477-4745-b20d-ca33f3065cab   \n",
       "132  72aaf683-3d51-4431-a7bd-a37117a05285   \n",
       "\n",
       "                                              sequence  read_len  \n",
       "0    TTATGTTGTTATGTAGGCGTACCTCGTTCAGTTACGTATTTTAGTC...      3581  \n",
       "1    GTTGTTTTTTTTTATTTTTACTTCGTTCAGTTACGTATTGCTAATT...      3605  \n",
       "2    TTATGTTATGTATCGTCTTTCGTTCAGTTACGTATTGCTGATTGTT...      3547  \n",
       "3    GTGTTTTGCCTGTACTTGGTTCAGACTACGTATTGCTTCACTACTC...      3596  \n",
       "4    GGTTATGTACGTGTACTTCGTTCAGTTACGTATTGCTCAGATTGTG...      3587  \n",
       "..                                                 ...       ...  \n",
       "128  TGTTATGTTGCCTGTACTTCGTTTTCAGGTTCGTAACTGCTTGTTA...      3589  \n",
       "129  ATTTTCCTGTTGCTTCGTTCCGCCCGTTTCTTGCTAGTCGCTTTTT...      3552  \n",
       "130  ATTGTTATGTTATGTTGCGTGTACACTTGGTACGGTTGCGTATTGC...      3638  \n",
       "131  ATATGTATATACGTATTTCCTTCGTTGAGTTACGTATTGCTTGTTA...      3562  \n",
       "132  GTTATGTTGTTATGTTTACTGGTTCAGTTACGTATTGCTTGTGTTT...      3577  \n",
       "\n",
       "[393 rows x 3 columns]"
      ]
     },
     "execution_count": 5,
     "metadata": {},
     "output_type": "execute_result"
    }
   ],
   "source": [
    "df"
   ]
  },
  {
   "cell_type": "markdown",
   "id": "b5493470-857c-43e0-890b-0205b179217f",
   "metadata": {},
   "source": [
    "# Histogram of read lenght"
   ]
  },
  {
   "cell_type": "code",
   "execution_count": 6,
   "id": "c662c8c6-748c-473e-a5b7-150d1540970a",
   "metadata": {},
   "outputs": [
    {
     "data": {
      "text/plain": [
       "array([[<AxesSubplot: title={'center': 'read_len'}>]], dtype=object)"
      ]
     },
     "execution_count": 6,
     "metadata": {},
     "output_type": "execute_result"
    },
    {
     "data": {
      "image/png": "[encoded data removed]",
      "text/plain": [
       "<Figure size 640x480 with 1 Axes>"
      ]
     },
     "metadata": {},
     "output_type": "display_data"
    }
   ],
   "source": [
    "df.hist(\"read_len\")"
   ]
  },
  {
   "cell_type": "markdown",
   "id": "6b7d23e4-95a5-4456-8a03-1220e912bcd3",
   "metadata": {},
   "source": [
    "# Map with mappy"
   ]
  },
  {
   "cell_type": "markdown",
   "id": "6002bca1-a33c-48d8-a885-3a53c770f4e7",
   "metadata": {},
   "source": [
    "## Calculate average alignment score (mlen / seqlen)"
   ]
  },
  {
   "cell_type": "code",
   "execution_count": 7,
   "id": "f4648b2f-b895-4fcf-afb6-6cd36b5f7984",
   "metadata": {},
   "outputs": [],
   "source": [
    "def alignment_quality(df: pd.DataFrame):\n",
    "    a = mp.Aligner(\"DNA-CS.fasta\", preset=\"map-ont\")\n",
    "    alignment_scores = []\n",
    "    \n",
    "    for x in df.itertuples():\n",
    "        seq = x.sequence\n",
    "        seq_len = len(seq)\n",
    "        \n",
    "        for hit in a.map(seq):\n",
    "            alignment_scores.append(hit.mlen / max(hit.ctg_len, seq_len))\n",
    "            \n",
    "    return np.array(alignment_scores)\n"
   ]
  },
  {
   "cell_type": "code",
   "execution_count": 8,
   "id": "5246ec2c-cf96-40e7-b6cd-113cfad43595",
   "metadata": {},
   "outputs": [],
   "source": [
    "alignment_list = alignment_quality(df)"
   ]
  },
  {
   "cell_type": "code",
   "execution_count": 9,
   "id": "0469637e-f830-454e-a855-07a3d80ccdcc",
   "metadata": {},
   "outputs": [
    {
     "name": "stdout",
     "output_type": "stream",
     "text": [
      "Mean alignment value:  96.0%\n",
      "Number of reads:  393\n"
     ]
    }
   ],
   "source": [
    "print(f\"Mean alignment value: {np.mean(alignment_list) * 100: .3}%\")\n",
    "print(f\"Number of reads: {len(alignment_list): ,}\")"
   ]
  }
 ],
 "metadata": {
  "kernelspec": {
   "display_name": "Python 3 (ipykernel)",
   "language": "python",
   "name": "python3"
  },
  "language_info": {
   "codemirror_mode": {
    "name": "ipython",
    "version": 3
   },
   "file_extension": ".py",
   "mimetype": "text/x-python",
   "name": "python",
   "nbconvert_exporter": "python",
   "pygments_lexer": "ipython3",
   "version": "3.10.0"
  }
 },
 "nbformat": 4,
 "nbformat_minor": 5
}
